{
  "nbformat": 4,
  "nbformat_minor": 0,
  "metadata": {
    "colab": {
      "name": "4thru12daysSwift.ipynb",
      "version": "0.3.2",
      "provenance": [],
      "collapsed_sections": [],
      "include_colab_link": true
    },
    "kernelspec": {
      "display_name": "Swift",
      "language": "swift",
      "name": "swift"
    },
    "accelerator": "GPU"
  },
  "cells": [
    {
      "cell_type": "markdown",
      "metadata": {
        "id": "view-in-github",
        "colab_type": "text"
      },
      "source": [
        "<a href=\"https://colab.research.google.com/github/der0pa/der0pa.github.io/blob/master/4thru12daysSwift.ipynb\" target=\"_parent\"><img src=\"https://colab.research.google.com/assets/colab-badge.svg\" alt=\"Open In Colab\"/></a>"
      ]
    },
    {
      "metadata": {
        "id": "qYmzL0EgPpYg",
        "colab_type": "text"
      },
      "cell_type": "markdown",
      "source": [
        "This workbook is for days 4 thru 12 summary.\n",
        "Days 1 thru 3 are in a .swift file on github\n"
      ]
    },
    {
      "metadata": {
        "id": "2XLVO-XtP9Ez",
        "colab_type": "code",
        "colab": {
          "base_uri": "https://localhost:8080/",
          "height": 106
        },
        "outputId": "c9ab8849-69da-4113-831b-7b86de309e55"
      },
      "cell_type": "code",
      "source": [
        "// for loops ... runs code over arrays and ranges untill exhausted\n",
        "\n",
        "let count = 1...5\n",
        "\n",
        "for _ in count {\n",
        "  print(\"count@\")\n",
        "}"
      ],
      "execution_count": 4,
      "outputs": [
        {
          "output_type": "stream",
          "text": [
            "count@\r\n",
            "count@\r\n",
            "count@\r\n",
            "count@\r\n",
            "count@\r\n"
          ],
          "name": "stdout"
        }
      ]
    },
    {
      "metadata": {
        "id": "HZILAubURNLQ",
        "colab_type": "code",
        "colab": {
          "base_uri": "https://localhost:8080/",
          "height": 124
        },
        "outputId": "3884e881-4c98-417f-c5e7-8f26c5deccc1"
      },
      "cell_type": "code",
      "source": [
        "// while loops ... runs loop while bool is 'true'\n",
        "\n",
        "var number = 1    // give var 'number' its starting value\n",
        "\n",
        "while number <= 5 {\n",
        "  print(number)\n",
        "  number += 1     // add 1 at each iterations as long as 'true'\n",
        "}\n",
        "\n",
        "print(\"Ready or not, here I come\") "
      ],
      "execution_count": 6,
      "outputs": [
        {
          "output_type": "stream",
          "text": [
            "1\r\n",
            "2\r\n",
            "3\r\n",
            "4\r\n",
            "5\r\n",
            "Ready or not, here I come\r\n"
          ],
          "name": "stdout"
        }
      ]
    },
    {
      "metadata": {
        "id": "UTAm7klfTLDR",
        "colab_type": "code",
        "colab": {
          "base_uri": "https://localhost:8080/",
          "height": 124
        },
        "outputId": "ec0e0f31-8d05-4844-92e7-80c08bcea840"
      },
      "cell_type": "code",
      "source": [
        "// Repeat loop -not common - bool is last with repeat\n",
        "\n",
        "var number = 1\n",
        "\n",
        "repeat {\n",
        "  print(number)\n",
        "  number += 1\n",
        "} while number <= 5\n",
        "\n",
        "print(\"Ready or not, repeat is complete\")"
      ],
      "execution_count": 7,
      "outputs": [
        {
          "output_type": "stream",
          "text": [
            "1\r\n",
            "2\r\n",
            "3\r\n",
            "4\r\n",
            "5\r\n",
            "Ready or not, repeat is complete\r\n"
          ],
          "name": "stdout"
        }
      ]
    },
    {
      "metadata": {
        "id": "N-duGwdCUg1y",
        "colab_type": "code",
        "colab": {}
      },
      "cell_type": "code",
      "source": [
        "// this will not print \"this is false\" using 'while'\n",
        "while false {\n",
        "  print(\"this is false\")\n",
        "}"
      ],
      "execution_count": 0,
      "outputs": []
    },
    {
      "metadata": {
        "id": "CKaP9Yf0Uvs0",
        "colab_type": "code",
        "colab": {
          "base_uri": "https://localhost:8080/",
          "height": 35
        },
        "outputId": "f7a0c4b2-d943-464d-f9a2-db423f3c1d10"
      },
      "cell_type": "code",
      "source": [
        "// this will print \"this is false\" using 'repeat'\n",
        "repeat {\n",
        "  print(\"this is false\")\n",
        "} while false"
      ],
      "execution_count": 9,
      "outputs": [
        {
          "output_type": "stream",
          "text": [
            "this is false\r\n"
          ],
          "name": "stdout"
        }
      ]
    },
    {
      "metadata": {
        "id": "WWSrB8-uVDFl",
        "colab_type": "code",
        "colab": {
          "base_uri": "https://localhost:8080/",
          "height": 124
        },
        "outputId": "00b90070-a3ce-4f15-d81b-792f4eada23f"
      },
      "cell_type": "code",
      "source": [
        "// exit a loop early using 'break'\n",
        "\n",
        "var countDown = 5\n",
        "\n",
        "while countDown >= 0 {\n",
        "  print(countDown)\n",
        "  \n",
        "  if countDown == 2 {\n",
        "    print(\"break out of loop at 2 not 0\")\n",
        "    break\n",
        "  }\n",
        "  countDown  -= 1\n",
        "}\n",
        "\n",
        "print(\"Blast off!\")"
      ],
      "execution_count": 12,
      "outputs": [
        {
          "output_type": "stream",
          "text": [
            "5\r\n",
            "4\r\n",
            "3\r\n",
            "2\r\n",
            "break out of loop at 2 not 0\r\n",
            "Blast off!\r\n"
          ],
          "name": "stdout"
        }
      ]
    },
    {
      "metadata": {
        "id": "ARrM-dlsWdpz",
        "colab_type": "code",
        "colab": {}
      },
      "cell_type": "code",
      "source": [
        "// this will print multiplication table up to 5 * 5\n",
        "// loops can be nested inside 'outerLoop' ie: 'loop label'\n",
        "\n",
        "for i in 1...5 {\n",
        "  for j in 1...5 {\n",
        "    let product = i * j\n",
        "    print(\"\\(i) * \\(j) is: \\(product)\")\n",
        "  }\n",
        "}"
      ],
      "execution_count": 0,
      "outputs": []
    },
    {
      "metadata": {
        "id": "UDFcokYmXd5y",
        "colab_type": "code",
        "colab": {}
      },
      "cell_type": "code",
      "source": [
        "outerLoopLabel: for i in 1...5 {\n",
        "  for j in 1...5 {         // inner loop start\n",
        "    let product = i * j\n",
        "    print(\"\\(i) * \\(j) is: \\(product)\")\n",
        "    \n",
        "    if product == 20 {\n",
        "      print(\"maximum product 'break' at 20\")\n",
        "      break outerLoopLabel\n",
        "    }\n",
        "  }\n",
        "}"
      ],
      "execution_count": 0,
      "outputs": []
    },
    {
      "metadata": {
        "id": "uVhTMWR6Y6Tn",
        "colab_type": "code",
        "colab": {
          "base_uri": "https://localhost:8080/",
          "height": 106
        },
        "outputId": "5b0fd3d3-60b4-45b3-9031-60093be485e8"
      },
      "cell_type": "code",
      "source": [
        "// use 'continue' to skip over or not include values\n",
        "// divide an int by 2 and 0 remainder will be an even int\n",
        "// divide an int by 2 with 1 as remainder will be odd int\n",
        "\n",
        "for i in 1...10 {\n",
        "  if i % 2 == 1 {\n",
        "    continue      // will 'skip' odd ints \n",
        "  }\n",
        "  print(i)        // and will print only even ints\n",
        "}"
      ],
      "execution_count": 18,
      "outputs": [
        {
          "output_type": "stream",
          "text": [
            "2\r\n",
            "4\r\n",
            "6\r\n",
            "8\r\n",
            "10\r\n"
          ],
          "name": "stdout"
        }
      ]
    },
    {
      "metadata": {
        "id": "-H7iTr9KaRQA",
        "colab_type": "code",
        "colab": {
          "base_uri": "https://localhost:8080/",
          "height": 213
        },
        "outputId": "277d3ad2-8ae3-469b-fc29-41aab4feed53"
      },
      "cell_type": "code",
      "source": [
        "// Infinite loop are used in applications \n",
        "// app will run 'loop' until you select 'exit'\n",
        "\n",
        "var myAppValue = 0\n",
        "while true {\n",
        "  print(\"running...\") // infinite loop without 'if' clause\n",
        "  myAppValue += 1\n",
        "  // if break is your 'exit' button on your app\n",
        "  if myAppValue == 10 {\n",
        "    break        // app will run for 10 loops and exit\n",
        "  } \n",
        "}\n",
        "    \n",
        "print(\"exit has been selected\")\n"
      ],
      "execution_count": 25,
      "outputs": [
        {
          "output_type": "stream",
          "text": [
            "running...\r\n",
            "running...\r\n",
            "running...\r\n",
            "running...\r\n",
            "running...\r\n",
            "running...\r\n",
            "running...\r\n",
            "running...\r\n",
            "running...\r\n",
            "running...\r\n",
            "exit has been selected\r\n"
          ],
          "name": "stdout"
        }
      ]
    },
    {
      "metadata": {
        "id": "7RekhiFpchpA",
        "colab_type": "text"
      },
      "cell_type": "markdown",
      "source": [
        "Day 5 summary below:"
      ]
    }
  ]
}